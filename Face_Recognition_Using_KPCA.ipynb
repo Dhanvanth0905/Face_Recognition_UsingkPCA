{
  "cells": [
    {
      "cell_type": "code",
      "execution_count": null,
      "id": "2c0ca1db",
      "metadata": {
        "id": "2c0ca1db"
      },
      "outputs": [],
      "source": [
        "from sklearn.datasets import fetch_olivetti_faces\n",
        "from sklearn.model_selection import train_test_split \n",
        "from sklearn.model_selection import GridSearchCV\n",
        "from sklearn.metrics import classification_report, accuracy_score\n",
        "from sklearn.metrics import confusion_matrix \n",
        "from sklearn.decomposition import KernelPCA \n",
        "from sklearn.svm import SVC \n",
        "import numpy as np\n",
        "import matplotlib.pyplot as plt\n",
        "import numpy as np\n",
        "from sklearn.pipeline import Pipeline\n",
        "import pandas as pd\n",
        "import plotly.express as px\n",
        "from torch import optim\n",
        "import torch\n",
        "from tqdm.notebook import tqdm\n",
        "from torch import nn"
      ]
    },
    {
      "cell_type": "code",
      "execution_count": null,
      "id": "14d338e7",
      "metadata": {
        "id": "14d338e7",
        "outputId": "d12f2780-a8c9-4edf-d497-80d8f91b314c"
      },
      "outputs": [
        {
          "name": "stdout",
          "output_type": "stream",
          "text": [
            "Requirement already satisfied: torch in c:\\users\\pruth\\anaconda3\\lib\\site-packages (1.10.1)\n",
            "Requirement already satisfied: typing-extensions in c:\\users\\pruth\\anaconda3\\lib\\site-packages (from torch) (3.7.4.3)\n",
            "Note: you may need to restart the kernel to use updated packages.\n"
          ]
        }
      ],
      "source": [
        "pip install torch"
      ]
    },
    {
      "cell_type": "code",
      "execution_count": null,
      "id": "9465d5a6",
      "metadata": {
        "id": "9465d5a6",
        "outputId": "f32e5c90-10fb-4709-bbd6-21c1ff4ca745"
      },
      "outputs": [
        {
          "name": "stdout",
          "output_type": "stream",
          "text": [
            "Requirement already satisfied: tqdm in c:\\users\\pruth\\anaconda3\\lib\\site-packages (4.59.0)\n",
            "Note: you may need to restart the kernel to use updated packages.\n"
          ]
        }
      ],
      "source": [
        "pip install tqdm "
      ]
    },
    {
      "cell_type": "code",
      "execution_count": null,
      "id": "b61bd152",
      "metadata": {
        "colab": {
          "base_uri": "https://localhost:8080/"
        },
        "id": "b61bd152",
        "outputId": "145772ab-6767-49a4-962d-704f447cf2cd"
      },
      "outputs": [
        {
          "output_type": "stream",
          "name": "stdout",
          "text": [
            "downloading Olivetti faces from https://ndownloader.figshare.com/files/5976027 to /root/scikit_learn_data\n",
            "Number of images [400], image width [64], image height [64] Width X Length [4096]\n",
            "number of classes[40]\n"
          ]
        }
      ],
      "source": [
        "olive_data = fetch_olivetti_faces()\n",
        "##image data\n",
        "n_samples, h, w = olive_data.images.shape\n",
        "data_size = h*w\n",
        "X = olive_data.images.reshape(-1, data_size)\n",
        "print(\"Number of images [{}], image width [{}], image height [{}] Width X Length [{}]\".format(n_samples, h, w, data_size))\n",
        "y = olive_data.target\n",
        "n_classes = len(set(y))\n",
        "print(\"number of classes[{}]\".format(n_classes))"
      ]
    },
    {
      "cell_type": "code",
      "execution_count": null,
      "id": "60af10b5",
      "metadata": {
        "colab": {
          "base_uri": "https://localhost:8080/",
          "height": 123
        },
        "id": "60af10b5",
        "outputId": "976e6c5a-1363-4dee-c39e-6ba4c00a24fd"
      },
      "outputs": [
        {
          "output_type": "display_data",
          "data": {
            "image/png": "[encoded data removed]",
            "text/plain": [
              "<Figure size 388.8x172.8 with 3 Axes>"
            ]
          },
          "metadata": {}
        }
      ],
      "source": [
        "def plot_gallery(images, item_index, n_col = 3, h=64, w=64, title=None): \n",
        "    if len(item_index) < n_col:\n",
        "        n_row = len(item_index)\n",
        "    \n",
        "    plt.figure(figsize =(1.8 * n_col, 2.4))\n",
        "    item_index = item_index[:n_col]\n",
        "    #plt.subplots_adjust(bottom = 0, left =.01, right =.99, top =.90, hspace =.35) \n",
        "    for i in range(n_col): \n",
        "        plt.subplot(1, n_col, i + 1) \n",
        "        plt.imshow(images[item_index[i]].reshape(h, w), cmap = plt.cm.gray) \n",
        "        plt.xticks(()) \n",
        "        plt.yticks(())\n",
        "    if title is not None:\n",
        "        plt.suptitle(title)\n",
        "        \n",
        "## face selection\n",
        "sample_index = 1\n",
        "n_col = 3\n",
        "itemindex = np.where(y==sample_index)[0]\n",
        "\n",
        "## Face plot\n",
        "plot_gallery(X, itemindex, n_col, h, w)"
      ]
    },
    {
      "cell_type": "code",
      "execution_count": null,
      "id": "fb85f4ab",
      "metadata": {
        "id": "fb85f4ab"
      },
      "outputs": [],
      "source": [
        "\n",
        "pipe = Pipeline([('pca', KernelPCA(kernel=\"poly\")), ('svc', SVC(class_weight ='balanced'))])\n",
        "\n",
        "## to explore hyper-paramter cast setting\n",
        "param_grid = {\n",
        "    'pca__n_components': [20, 40, 60, 80, 100, 120, 140], ## Kernel-PCA parameter(n_components)\n",
        "    'pca__degree': [2, 3, 4, 5], ## Kernel-PCA parameter(degree)\n",
        "    'svc__C': [1e-1, 2e-1, 3e-1, 4e-1, 5e-1, 6e-1, 7e-1, 8e-1, 9e-1, 1, 2, 3, 4, 5, 6, 7, 8, 9, 1e1], ## SVM\n",
        "} "
      ]
    },
    {
      "cell_type": "code",
      "execution_count": null,
      "id": "7b52f585",
      "metadata": {
        "id": "7b52f585"
      },
      "outputs": [],
      "source": [
        "X_train, X_test, y_train, y_test=train_test_split(X, olive_data.target, test_size=0.3, stratify=olive_data.target, random_state=0)"
      ]
    },
    {
      "cell_type": "code",
      "execution_count": null,
      "id": "df48af4f",
      "metadata": {
        "colab": {
          "base_uri": "https://localhost:8080/",
          "height": 596
        },
        "id": "df48af4f",
        "outputId": "326e901d-d48c-459a-d4be-5e3a7262085e"
      },
      "outputs": [
        {
          "output_type": "stream",
          "name": "stdout",
          "text": [
            "Grid Search explored using Best hyper-parameter\n",
            "Pipeline(steps=[('pca', KernelPCA(kernel='poly', n_components=140)),\n",
            "                ('svc', SVC(C=3, class_weight='balanced'))])\n"
          ]
        },
        {
          "output_type": "display_data",
          "data": {
            "text/html": [
              "<html>\n",
              "<head><meta charset=\"utf-8\" /></head>\n",
              "<body>\n",
              "    <div>\n",
              "            <script src=\"https://cdnjs.cloudflare.com/ajax/libs/mathjax/2.7.5/MathJax.js?config=TeX-AMS-MML_SVG\"></script><script type=\"text/javascript\">if (window.MathJax) {MathJax.Hub.Config({SVG: {font: \"STIX-Web\"}});}</script>\n",
              "                <script type=\"text/javascript\">window.PlotlyConfig = {MathJaxConfig: 'local'};</script>\n",
              "        <script src=\"https://cdn.plot.ly/plotly-latest.min.js\"></script>    \n",
              "            <div id=\"88e0b535-ac74-464e-9eab-e2a5b16b85ca\" class=\"plotly-graph-div\" style=\"height:525px; width:100%;\"></div>\n",
              "            <script type=\"text/javascript\">\n",
              "                \n",
              "                    window.PLOTLYENV=window.PLOTLYENV || {};\n",
              "                    \n",
              "                if (document.getElementById(\"88e0b535-ac74-464e-9eab-e2a5b16b85ca\")) {\n",
              "                    Plotly.newPlot(\n",
              "                        '88e0b535-ac74-464e-9eab-e2a5b16b85ca',\n",
              "                        [{\"alignmentgroup\": \"True\", \"hoverlabel\": {\"namelength\": 0}, \"hovertemplate\": \"svc__C=0.1<br>pca__n_components=%{marker.color}<br>Accuracy=%{y}\", \"ids\": [20, 40, 60, 80, 100, 120, 140, 20, 40, 60, 80, 100, 120, 140, 20, 40, 60, 80, 100, 120, 140, 20, 40, 60, 80, 100, 120, 140], \"legendgroup\": \"\", \"marker\": {\"color\": [20, 40, 60, 80, 100, 120, 140, 20, 40, 60, 80, 100, 120, 140, 20, 40, 60, 80, 100, 120, 140, 20, 40, 60, 80, 100, 120, 140], \"coloraxis\": \"coloraxis\"}, \"name\": \"\", \"offsetgroup\": \"\", \"orientation\": \"v\", \"showlegend\": false, \"textposition\": \"auto\", \"type\": \"bar\", \"x\": [20, 40, 60, 80, 100, 120, 140, 20, 40, 60, 80, 100, 120, 140, 20, 40, 60, 80, 100, 120, 140, 20, 40, 60, 80, 100, 120, 140], \"xaxis\": \"x\", \"y\": [0.4821428571428571, 0.5, 0.5035714285714286, 0.5035714285714286, 0.5035714285714286, 0.5035714285714286, 0.5035714285714286, 0.47857142857142854, 0.4928571428571429, 0.49642857142857144, 0.5, 0.5, 0.5035714285714286, 0.5035714285714286, 0.4714285714285714, 0.47857142857142854, 0.48571428571428577, 0.4928571428571429, 0.49642857142857144, 0.49642857142857144, 0.49642857142857144, 0.4714285714285714, 0.475, 0.47857142857142854, 0.4892857142857143, 0.4892857142857142, 0.4892857142857143, 0.4928571428571429], \"yaxis\": \"y\"}],\n",
              "                        {\"barmode\": \"relative\", \"coloraxis\": {\"colorbar\": {\"title\": {\"text\": \"pca__n_components\"}}, \"colorscale\": [[0.0, \"#0d0887\"], [0.1111111111111111, \"#46039f\"], [0.2222222222222222, \"#7201a8\"], [0.3333333333333333, \"#9c179e\"], [0.4444444444444444, \"#bd3786\"], [0.5555555555555556, \"#d8576b\"], [0.6666666666666666, \"#ed7953\"], [0.7777777777777778, \"#fb9f3a\"], [0.8888888888888888, \"#fdca26\"], [1.0, \"#f0f921\"]]}, \"legend\": {\"tracegroupgap\": 0}, \"margin\": {\"t\": 60}, \"sliders\": [{\"active\": 0, \"currentvalue\": {\"prefix\": \"svc__C=\"}, \"len\": 0.9, \"pad\": {\"b\": 10, \"t\": 60}, \"steps\": [{\"args\": [[\"0.1\"], {\"frame\": {\"duration\": 0, \"redraw\": true}, \"fromcurrent\": true, \"mode\": \"immediate\", \"transition\": {\"duration\": 0, \"easing\": \"linear\"}}], \"label\": \"0.1\", \"method\": \"animate\"}, {\"args\": [[\"0.2\"], {\"frame\": {\"duration\": 0, \"redraw\": true}, \"fromcurrent\": true, \"mode\": \"immediate\", \"transition\": {\"duration\": 0, \"easing\": \"linear\"}}], \"label\": \"0.2\", \"method\": \"animate\"}, {\"args\": [[\"0.3\"], {\"frame\": {\"duration\": 0, \"redraw\": true}, \"fromcurrent\": true, \"mode\": \"immediate\", \"transition\": {\"duration\": 0, \"easing\": \"linear\"}}], \"label\": \"0.3\", \"method\": \"animate\"}, {\"args\": [[\"0.4\"], {\"frame\": {\"duration\": 0, \"redraw\": true}, \"fromcurrent\": true, \"mode\": \"immediate\", \"transition\": {\"duration\": 0, \"easing\": \"linear\"}}], \"label\": \"0.4\", \"method\": \"animate\"}, {\"args\": [[\"0.5\"], {\"frame\": {\"duration\": 0, \"redraw\": true}, \"fromcurrent\": true, \"mode\": \"immediate\", \"transition\": {\"duration\": 0, \"easing\": \"linear\"}}], \"label\": \"0.5\", \"method\": \"animate\"}, {\"args\": [[\"0.6\"], {\"frame\": {\"duration\": 0, \"redraw\": true}, \"fromcurrent\": true, \"mode\": \"immediate\", \"transition\": {\"duration\": 0, \"easing\": \"linear\"}}], \"label\": \"0.6\", \"method\": \"animate\"}, {\"args\": [[\"0.7\"], {\"frame\": {\"duration\": 0, \"redraw\": true}, \"fromcurrent\": true, \"mode\": \"immediate\", \"transition\": {\"duration\": 0, \"easing\": \"linear\"}}], \"label\": \"0.7\", \"method\": \"animate\"}, {\"args\": [[\"0.8\"], {\"frame\": {\"duration\": 0, \"redraw\": true}, \"fromcurrent\": true, \"mode\": \"immediate\", \"transition\": {\"duration\": 0, \"easing\": \"linear\"}}], \"label\": \"0.8\", \"method\": \"animate\"}, {\"args\": [[\"0.9\"], {\"frame\": {\"duration\": 0, \"redraw\": true}, \"fromcurrent\": true, \"mode\": \"immediate\", \"transition\": {\"duration\": 0, \"easing\": \"linear\"}}], \"label\": \"0.9\", \"method\": \"animate\"}, {\"args\": [[\"1.0\"], {\"frame\": {\"duration\": 0, \"redraw\": true}, \"fromcurrent\": true, \"mode\": \"immediate\", \"transition\": {\"duration\": 0, \"easing\": \"linear\"}}], \"label\": \"1.0\", \"method\": \"animate\"}, {\"args\": [[\"2.0\"], {\"frame\": {\"duration\": 0, \"redraw\": true}, \"fromcurrent\": true, \"mode\": \"immediate\", \"transition\": {\"duration\": 0, \"easing\": \"linear\"}}], \"label\": \"2.0\", \"method\": \"animate\"}, {\"args\": [[\"3.0\"], {\"frame\": {\"duration\": 0, \"redraw\": true}, \"fromcurrent\": true, \"mode\": \"immediate\", \"transition\": {\"duration\": 0, \"easing\": \"linear\"}}], \"label\": \"3.0\", \"method\": \"animate\"}, {\"args\": [[\"4.0\"], {\"frame\": {\"duration\": 0, \"redraw\": true}, \"fromcurrent\": true, \"mode\": \"immediate\", \"transition\": {\"duration\": 0, \"easing\": \"linear\"}}], \"label\": \"4.0\", \"method\": \"animate\"}, {\"args\": [[\"5.0\"], {\"frame\": {\"duration\": 0, \"redraw\": true}, \"fromcurrent\": true, \"mode\": \"immediate\", \"transition\": {\"duration\": 0, \"easing\": \"linear\"}}], \"label\": \"5.0\", \"method\": \"animate\"}, {\"args\": [[\"6.0\"], {\"frame\": {\"duration\": 0, \"redraw\": true}, \"fromcurrent\": true, \"mode\": \"immediate\", \"transition\": {\"duration\": 0, \"easing\": \"linear\"}}], \"label\": \"6.0\", \"method\": \"animate\"}, {\"args\": [[\"7.0\"], {\"frame\": {\"duration\": 0, \"redraw\": true}, \"fromcurrent\": true, \"mode\": \"immediate\", \"transition\": {\"duration\": 0, \"easing\": \"linear\"}}], \"label\": \"7.0\", \"method\": \"animate\"}, {\"args\": [[\"8.0\"], {\"frame\": {\"duration\": 0, \"redraw\": true}, \"fromcurrent\": true, \"mode\": \"immediate\", \"transition\": {\"duration\": 0, \"easing\": \"linear\"}}], \"label\": \"8.0\", \"method\": \"animate\"}, {\"args\": [[\"9.0\"], {\"frame\": {\"duration\": 0, \"redraw\": true}, \"fromcurrent\": true, \"mode\": \"immediate\", \"transition\": {\"duration\": 0, \"easing\": \"linear\"}}], \"label\": \"9.0\", \"method\": \"animate\"}, {\"args\": [[\"10.0\"], {\"frame\": {\"duration\": 0, \"redraw\": true}, \"fromcurrent\": true, \"mode\": \"immediate\", \"transition\": {\"duration\": 0, \"easing\": \"linear\"}}], \"label\": \"10.0\", \"method\": \"animate\"}], \"x\": 0.1, \"xanchor\": \"left\", \"y\": 0, \"yanchor\": \"top\"}], \"template\": {\"data\": {\"bar\": [{\"error_x\": {\"color\": \"#2a3f5f\"}, \"error_y\": {\"color\": \"#2a3f5f\"}, \"marker\": {\"line\": {\"color\": \"#E5ECF6\", \"width\": 0.5}}, \"type\": \"bar\"}], \"barpolar\": [{\"marker\": {\"line\": {\"color\": \"#E5ECF6\", \"width\": 0.5}}, \"type\": \"barpolar\"}], \"carpet\": [{\"aaxis\": {\"endlinecolor\": \"#2a3f5f\", \"gridcolor\": \"white\", \"linecolor\": \"white\", \"minorgridcolor\": \"white\", \"startlinecolor\": \"#2a3f5f\"}, \"baxis\": {\"endlinecolor\": \"#2a3f5f\", \"gridcolor\": \"white\", \"linecolor\": \"white\", \"minorgridcolor\": \"white\", \"startlinecolor\": \"#2a3f5f\"}, \"type\": \"carpet\"}], \"choropleth\": [{\"colorbar\": {\"outlinewidth\": 0, \"ticks\": \"\"}, \"type\": \"choropleth\"}], \"contour\": [{\"colorbar\": {\"outlinewidth\": 0, \"ticks\": \"\"}, \"colorscale\": [[0.0, \"#0d0887\"], [0.1111111111111111, \"#46039f\"], [0.2222222222222222, \"#7201a8\"], [0.3333333333333333, \"#9c179e\"], [0.4444444444444444, \"#bd3786\"], [0.5555555555555556, \"#d8576b\"], [0.6666666666666666, \"#ed7953\"], [0.7777777777777778, \"#fb9f3a\"], [0.8888888888888888, \"#fdca26\"], [1.0, \"#f0f921\"]], \"type\": \"contour\"}], \"contourcarpet\": [{\"colorbar\": {\"outlinewidth\": 0, \"ticks\": \"\"}, \"type\": \"contourcarpet\"}], \"heatmap\": [{\"colorbar\": {\"outlinewidth\": 0, \"ticks\": \"\"}, \"colorscale\": [[0.0, \"#0d0887\"], [0.1111111111111111, \"#46039f\"], [0.2222222222222222, \"#7201a8\"], [0.3333333333333333, \"#9c179e\"], [0.4444444444444444, \"#bd3786\"], [0.5555555555555556, \"#d8576b\"], [0.6666666666666666, \"#ed7953\"], [0.7777777777777778, \"#fb9f3a\"], [0.8888888888888888, \"#fdca26\"], [1.0, \"#f0f921\"]], \"type\": \"heatmap\"}], \"heatmapgl\": [{\"colorbar\": {\"outlinewidth\": 0, \"ticks\": \"\"}, \"colorscale\": [[0.0, \"#0d0887\"], [0.1111111111111111, \"#46039f\"], [0.2222222222222222, \"#7201a8\"], [0.3333333333333333, \"#9c179e\"], [0.4444444444444444, \"#bd3786\"], [0.5555555555555556, \"#d8576b\"], [0.6666666666666666, \"#ed7953\"], [0.7777777777777778, \"#fb9f3a\"], [0.8888888888888888, \"#fdca26\"], [1.0, \"#f0f921\"]], \"type\": \"heatmapgl\"}], \"histogram\": [{\"marker\": {\"colorbar\": {\"outlinewidth\": 0, \"ticks\": \"\"}}, \"type\": \"histogram\"}], \"histogram2d\": [{\"colorbar\": {\"outlinewidth\": 0, \"ticks\": \"\"}, \"colorscale\": [[0.0, \"#0d0887\"], [0.1111111111111111, \"#46039f\"], [0.2222222222222222, \"#7201a8\"], [0.3333333333333333, \"#9c179e\"], [0.4444444444444444, \"#bd3786\"], [0.5555555555555556, \"#d8576b\"], [0.6666666666666666, \"#ed7953\"], [0.7777777777777778, \"#fb9f3a\"], [0.8888888888888888, \"#fdca26\"], [1.0, \"#f0f921\"]], \"type\": \"histogram2d\"}], \"histogram2dcontour\": [{\"colorbar\": {\"outlinewidth\": 0, \"ticks\": \"\"}, \"colorscale\": [[0.0, \"#0d0887\"], [0.1111111111111111, \"#46039f\"], [0.2222222222222222, \"#7201a8\"], [0.3333333333333333, \"#9c179e\"], [0.4444444444444444, \"#bd3786\"], [0.5555555555555556, \"#d8576b\"], [0.6666666666666666, \"#ed7953\"], [0.7777777777777778, \"#fb9f3a\"], [0.8888888888888888, \"#fdca26\"], [1.0, \"#f0f921\"]], \"type\": \"histogram2dcontour\"}], \"mesh3d\": [{\"colorbar\": {\"outlinewidth\": 0, \"ticks\": \"\"}, \"type\": \"mesh3d\"}], \"parcoords\": [{\"line\": {\"colorbar\": {\"outlinewidth\": 0, \"ticks\": \"\"}}, \"type\": \"parcoords\"}], \"pie\": [{\"automargin\": true, \"type\": \"pie\"}], \"scatter\": [{\"marker\": {\"colorbar\": {\"outlinewidth\": 0, \"ticks\": \"\"}}, \"type\": \"scatter\"}], \"scatter3d\": [{\"line\": {\"colorbar\": {\"outlinewidth\": 0, \"ticks\": \"\"}}, \"marker\": {\"colorbar\": {\"outlinewidth\": 0, \"ticks\": \"\"}}, \"type\": \"scatter3d\"}], \"scattercarpet\": [{\"marker\": {\"colorbar\": {\"outlinewidth\": 0, \"ticks\": \"\"}}, \"type\": \"scattercarpet\"}], \"scattergeo\": [{\"marker\": {\"colorbar\": {\"outlinewidth\": 0, \"ticks\": \"\"}}, \"type\": \"scattergeo\"}], \"scattergl\": [{\"marker\": {\"colorbar\": {\"outlinewidth\": 0, \"ticks\": \"\"}}, \"type\": \"scattergl\"}], \"scattermapbox\": [{\"marker\": {\"colorbar\": {\"outlinewidth\": 0, \"ticks\": \"\"}}, \"type\": \"scattermapbox\"}], \"scatterpolar\": [{\"marker\": {\"colorbar\": {\"outlinewidth\": 0, \"ticks\": \"\"}}, \"type\": \"scatterpolar\"}], \"scatterpolargl\": [{\"marker\": {\"colorbar\": {\"outlinewidth\": 0, \"ticks\": \"\"}}, \"type\": \"scatterpolargl\"}], \"scatterternary\": [{\"marker\": {\"colorbar\": {\"outlinewidth\": 0, \"ticks\": \"\"}}, \"type\": \"scatterternary\"}], \"surface\": [{\"colorbar\": {\"outlinewidth\": 0, \"ticks\": \"\"}, \"colorscale\": [[0.0, \"#0d0887\"], [0.1111111111111111, \"#46039f\"], [0.2222222222222222, \"#7201a8\"], [0.3333333333333333, \"#9c179e\"], [0.4444444444444444, \"#bd3786\"], [0.5555555555555556, \"#d8576b\"], [0.6666666666666666, \"#ed7953\"], [0.7777777777777778, \"#fb9f3a\"], [0.8888888888888888, \"#fdca26\"], [1.0, \"#f0f921\"]], \"type\": \"surface\"}], \"table\": [{\"cells\": {\"fill\": {\"color\": \"#EBF0F8\"}, \"line\": {\"color\": \"white\"}}, \"header\": {\"fill\": {\"color\": \"#C8D4E3\"}, \"line\": {\"color\": \"white\"}}, \"type\": \"table\"}]}, \"layout\": {\"annotationdefaults\": {\"arrowcolor\": \"#2a3f5f\", \"arrowhead\": 0, \"arrowwidth\": 1}, \"coloraxis\": {\"colorbar\": {\"outlinewidth\": 0, \"ticks\": \"\"}}, \"colorscale\": {\"diverging\": [[0, \"#8e0152\"], [0.1, \"#c51b7d\"], [0.2, \"#de77ae\"], [0.3, \"#f1b6da\"], [0.4, \"#fde0ef\"], [0.5, \"#f7f7f7\"], [0.6, \"#e6f5d0\"], [0.7, \"#b8e186\"], [0.8, \"#7fbc41\"], [0.9, \"#4d9221\"], [1, \"#276419\"]], \"sequential\": [[0.0, \"#0d0887\"], [0.1111111111111111, \"#46039f\"], [0.2222222222222222, \"#7201a8\"], [0.3333333333333333, \"#9c179e\"], [0.4444444444444444, \"#bd3786\"], [0.5555555555555556, \"#d8576b\"], [0.6666666666666666, \"#ed7953\"], [0.7777777777777778, \"#fb9f3a\"], [0.8888888888888888, \"#fdca26\"], [1.0, \"#f0f921\"]], \"sequentialminus\": [[0.0, \"#0d0887\"], [0.1111111111111111, \"#46039f\"], [0.2222222222222222, \"#7201a8\"], [0.3333333333333333, \"#9c179e\"], [0.4444444444444444, \"#bd3786\"], [0.5555555555555556, \"#d8576b\"], [0.6666666666666666, \"#ed7953\"], [0.7777777777777778, \"#fb9f3a\"], [0.8888888888888888, \"#fdca26\"], [1.0, \"#f0f921\"]]}, \"colorway\": [\"#636efa\", \"#EF553B\", \"#00cc96\", \"#ab63fa\", \"#FFA15A\", \"#19d3f3\", \"#FF6692\", \"#B6E880\", \"#FF97FF\", \"#FECB52\"], \"font\": {\"color\": \"#2a3f5f\"}, \"geo\": {\"bgcolor\": \"white\", \"lakecolor\": \"white\", \"landcolor\": \"#E5ECF6\", \"showlakes\": true, \"showland\": true, \"subunitcolor\": \"white\"}, \"hoverlabel\": {\"align\": \"left\"}, \"hovermode\": \"closest\", \"mapbox\": {\"style\": \"light\"}, \"paper_bgcolor\": \"white\", \"plot_bgcolor\": \"#E5ECF6\", \"polar\": {\"angularaxis\": {\"gridcolor\": \"white\", \"linecolor\": \"white\", \"ticks\": \"\"}, \"bgcolor\": \"#E5ECF6\", \"radialaxis\": {\"gridcolor\": \"white\", \"linecolor\": \"white\", \"ticks\": \"\"}}, \"scene\": {\"xaxis\": {\"backgroundcolor\": \"#E5ECF6\", \"gridcolor\": \"white\", \"gridwidth\": 2, \"linecolor\": \"white\", \"showbackground\": true, \"ticks\": \"\", \"zerolinecolor\": \"white\"}, \"yaxis\": {\"backgroundcolor\": \"#E5ECF6\", \"gridcolor\": \"white\", \"gridwidth\": 2, \"linecolor\": \"white\", \"showbackground\": true, \"ticks\": \"\", \"zerolinecolor\": \"white\"}, \"zaxis\": {\"backgroundcolor\": \"#E5ECF6\", \"gridcolor\": \"white\", \"gridwidth\": 2, \"linecolor\": \"white\", \"showbackground\": true, \"ticks\": \"\", \"zerolinecolor\": \"white\"}}, \"shapedefaults\": {\"line\": {\"color\": \"#2a3f5f\"}}, \"ternary\": {\"aaxis\": {\"gridcolor\": \"white\", \"linecolor\": \"white\", \"ticks\": \"\"}, \"baxis\": {\"gridcolor\": \"white\", \"linecolor\": \"white\", \"ticks\": \"\"}, \"bgcolor\": \"#E5ECF6\", \"caxis\": {\"gridcolor\": \"white\", \"linecolor\": \"white\", \"ticks\": \"\"}}, \"title\": {\"x\": 0.05}, \"xaxis\": {\"automargin\": true, \"gridcolor\": \"white\", \"linecolor\": \"white\", \"ticks\": \"\", \"title\": {\"standoff\": 15}, \"zerolinecolor\": \"white\", \"zerolinewidth\": 2}, \"yaxis\": {\"automargin\": true, \"gridcolor\": \"white\", \"linecolor\": \"white\", \"ticks\": \"\", \"title\": {\"standoff\": 15}, \"zerolinecolor\": \"white\", \"zerolinewidth\": 2}}}, \"updatemenus\": [{\"buttons\": [{\"args\": [null, {\"frame\": {\"duration\": 500, \"redraw\": true}, \"fromcurrent\": true, \"mode\": \"immediate\", \"transition\": {\"duration\": 500, \"easing\": \"linear\"}}], \"label\": \"&#9654;\", \"method\": \"animate\"}, {\"args\": [[null], {\"frame\": {\"duration\": 0, \"redraw\": true}, \"fromcurrent\": true, \"mode\": \"immediate\", \"transition\": {\"duration\": 0, \"easing\": \"linear\"}}], \"label\": \"&#9724;\", \"method\": \"animate\"}], \"direction\": \"left\", \"pad\": {\"r\": 10, \"t\": 70}, \"showactive\": false, \"type\": \"buttons\", \"x\": 0.1, \"xanchor\": \"right\", \"y\": 0, \"yanchor\": \"top\"}], \"xaxis\": {\"anchor\": \"y\", \"domain\": [0.0, 1.0], \"title\": {\"text\": \"pca__n_components\"}}, \"yaxis\": {\"anchor\": \"x\", \"domain\": [0.0, 1.0], \"range\": [0.5, 1], \"title\": {\"text\": \"Accuracy\"}}},\n",
              "                        {\"responsive\": true}\n",
              "                    ).then(function(){\n",
              "                            Plotly.addFrames('88e0b535-ac74-464e-9eab-e2a5b16b85ca', [{\"data\": [{\"alignmentgroup\": \"True\", \"hoverlabel\": {\"namelength\": 0}, \"hovertemplate\": \"svc__C=0.1<br>pca__n_components=%{marker.color}<br>Accuracy=%{y}\", \"ids\": [20, 40, 60, 80, 100, 120, 140, 20, 40, 60, 80, 100, 120, 140, 20, 40, 60, 80, 100, 120, 140, 20, 40, 60, 80, 100, 120, 140], \"legendgroup\": \"\", \"marker\": {\"color\": [20, 40, 60, 80, 100, 120, 140, 20, 40, 60, 80, 100, 120, 140, 20, 40, 60, 80, 100, 120, 140, 20, 40, 60, 80, 100, 120, 140], \"coloraxis\": \"coloraxis\"}, \"name\": \"\", \"offsetgroup\": \"\", \"orientation\": \"v\", \"showlegend\": false, \"textposition\": \"auto\", \"x\": [20, 40, 60, 80, 100, 120, 140, 20, 40, 60, 80, 100, 120, 140, 20, 40, 60, 80, 100, 120, 140, 20, 40, 60, 80, 100, 120, 140], \"xaxis\": \"x\", \"y\": [0.4821428571428571, 0.5, 0.5035714285714286, 0.5035714285714286, 0.5035714285714286, 0.5035714285714286, 0.5035714285714286, 0.47857142857142854, 0.4928571428571429, 0.49642857142857144, 0.5, 0.5, 0.5035714285714286, 0.5035714285714286, 0.4714285714285714, 0.47857142857142854, 0.48571428571428577, 0.4928571428571429, 0.49642857142857144, 0.49642857142857144, 0.49642857142857144, 0.4714285714285714, 0.475, 0.47857142857142854, 0.4892857142857143, 0.4892857142857142, 0.4892857142857143, 0.4928571428571429], \"yaxis\": \"y\", \"type\": \"bar\"}], \"name\": \"0.1\"}, {\"data\": [{\"alignmentgroup\": \"True\", \"hoverlabel\": {\"namelength\": 0}, \"hovertemplate\": \"svc__C=0.2<br>pca__n_components=%{marker.color}<br>Accuracy=%{y}\", \"ids\": [20, 40, 60, 80, 100, 120, 140, 20, 40, 60, 80, 100, 120, 140, 20, 40, 60, 80, 100, 120, 140, 20, 40, 60, 80, 100, 120, 140], \"legendgroup\": \"\", \"marker\": {\"color\": [20, 40, 60, 80, 100, 120, 140, 20, 40, 60, 80, 100, 120, 140, 20, 40, 60, 80, 100, 120, 140, 20, 40, 60, 80, 100, 120, 140], \"coloraxis\": \"coloraxis\"}, \"name\": \"\", \"offsetgroup\": \"\", \"orientation\": \"v\", \"showlegend\": false, \"textposition\": \"auto\", \"x\": [20, 40, 60, 80, 100, 120, 140, 20, 40, 60, 80, 100, 120, 140, 20, 40, 60, 80, 100, 120, 140, 20, 40, 60, 80, 100, 120, 140], \"xaxis\": \"x\", \"y\": [0.49642857142857144, 0.5071428571428571, 0.5071428571428571, 0.5035714285714286, 0.5035714285714286, 0.5035714285714286, 0.5035714285714286, 0.49642857142857144, 0.5, 0.5, 0.5, 0.5, 0.5035714285714286, 0.5035714285714286, 0.4892857142857143, 0.4821428571428571, 0.48571428571428577, 0.4928571428571429, 0.49642857142857144, 0.49642857142857144, 0.49642857142857144, 0.4892857142857143, 0.475, 0.47857142857142854, 0.4892857142857143, 0.4892857142857142, 0.4892857142857143, 0.4928571428571429], \"yaxis\": \"y\", \"type\": \"bar\"}], \"name\": \"0.2\"}, {\"data\": [{\"alignmentgroup\": \"True\", \"hoverlabel\": {\"namelength\": 0}, \"hovertemplate\": \"svc__C=0.3<br>pca__n_components=%{marker.color}<br>Accuracy=%{y}\", \"ids\": [20, 40, 60, 80, 100, 120, 140, 20, 40, 60, 80, 100, 120, 140, 20, 40, 60, 80, 100, 120, 140, 20, 40, 60, 80, 100, 120, 140], \"legendgroup\": \"\", \"marker\": {\"color\": [20, 40, 60, 80, 100, 120, 140, 20, 40, 60, 80, 100, 120, 140, 20, 40, 60, 80, 100, 120, 140, 20, 40, 60, 80, 100, 120, 140], \"coloraxis\": \"coloraxis\"}, \"name\": \"\", \"offsetgroup\": \"\", \"orientation\": \"v\", \"showlegend\": false, \"textposition\": \"auto\", \"x\": [20, 40, 60, 80, 100, 120, 140, 20, 40, 60, 80, 100, 120, 140, 20, 40, 60, 80, 100, 120, 140, 20, 40, 60, 80, 100, 120, 140], \"xaxis\": \"x\", \"y\": [0.625, 0.6535714285714287, 0.6321428571428571, 0.6142857142857143, 0.6071428571428572, 0.6, 0.5964285714285714, 0.6214285714285714, 0.625, 0.625, 0.6035714285714285, 0.6, 0.5928571428571429, 0.5892857142857142, 0.6000000000000001, 0.6, 0.6, 0.5857142857142857, 0.5821428571428571, 0.5821428571428571, 0.5714285714285714, 0.5857142857142857, 0.5928571428571429, 0.5785714285714286, 0.575, 0.5607142857142857, 0.5607142857142857, 0.5642857142857143], \"yaxis\": \"y\", \"type\": \"bar\"}], \"name\": \"0.3\"}, {\"data\": [{\"alignmentgroup\": \"True\", \"hoverlabel\": {\"namelength\": 0}, \"hovertemplate\": \"svc__C=0.4<br>pca__n_components=%{marker.color}<br>Accuracy=%{y}\", \"ids\": [20, 40, 60, 80, 100, 120, 140, 20, 40, 60, 80, 100, 120, 140, 20, 40, 60, 80, 100, 120, 140, 20, 40, 60, 80, 100, 120, 140], \"legendgroup\": \"\", \"marker\": {\"color\": [20, 40, 60, 80, 100, 120, 140, 20, 40, 60, 80, 100, 120, 140, 20, 40, 60, 80, 100, 120, 140, 20, 40, 60, 80, 100, 120, 140], \"coloraxis\": \"coloraxis\"}, \"name\": \"\", \"offsetgroup\": \"\", \"orientation\": \"v\", \"showlegend\": false, \"textposition\": \"auto\", \"x\": [20, 40, 60, 80, 100, 120, 140, 20, 40, 60, 80, 100, 120, 140, 20, 40, 60, 80, 100, 120, 140, 20, 40, 60, 80, 100, 120, 140], \"xaxis\": \"x\", \"y\": [0.7642857142857142, 0.7857142857142857, 0.7785714285714285, 0.7892857142857143, 0.7892857142857143, 0.7785714285714285, 0.7607142857142858, 0.7535714285714287, 0.7678571428571429, 0.7642857142857142, 0.7714285714285714, 0.7714285714285715, 0.7642857142857142, 0.7607142857142858, 0.7428571428571429, 0.7464285714285714, 0.7642857142857143, 0.7714285714285715, 0.7607142857142858, 0.7464285714285716, 0.7392857142857144, 0.7214285714285715, 0.7428571428571429, 0.7428571428571429, 0.7535714285714284, 0.7321428571428571, 0.7357142857142858, 0.7321428571428571], \"yaxis\": \"y\", \"type\": \"bar\"}], \"name\": \"0.4\"}, {\"data\": [{\"alignmentgroup\": \"True\", \"hoverlabel\": {\"namelength\": 0}, \"hovertemplate\": \"svc__C=0.5<br>pca__n_components=%{marker.color}<br>Accuracy=%{y}\", \"ids\": [20, 40, 60, 80, 100, 120, 140, 20, 40, 60, 80, 100, 120, 140, 20, 40, 60, 80, 100, 120, 140, 20, 40, 60, 80, 100, 120, 140], \"legendgroup\": \"\", \"marker\": {\"color\": [20, 40, 60, 80, 100, 120, 140, 20, 40, 60, 80, 100, 120, 140, 20, 40, 60, 80, 100, 120, 140, 20, 40, 60, 80, 100, 120, 140], \"coloraxis\": \"coloraxis\"}, \"name\": \"\", \"offsetgroup\": \"\", \"orientation\": \"v\", \"showlegend\": false, \"textposition\": \"auto\", \"x\": [20, 40, 60, 80, 100, 120, 140, 20, 40, 60, 80, 100, 120, 140, 20, 40, 60, 80, 100, 120, 140, 20, 40, 60, 80, 100, 120, 140], \"xaxis\": \"x\", \"y\": [0.7892857142857143, 0.8428571428571427, 0.8321428571428571, 0.8357142857142857, 0.8357142857142857, 0.8321428571428571, 0.8321428571428571, 0.7857142857142857, 0.825, 0.825, 0.8285714285714285, 0.8285714285714286, 0.8321428571428571, 0.8285714285714285, 0.7857142857142857, 0.8, 0.8107142857142857, 0.8178571428571428, 0.8214285714285715, 0.825, 0.8178571428571428, 0.7714285714285715, 0.7892857142857143, 0.7964285714285714, 0.8107142857142857, 0.8107142857142857, 0.8107142857142857, 0.8071428571428572], \"yaxis\": \"y\", \"type\": \"bar\"}], \"name\": \"0.5\"}, {\"data\": [{\"alignmentgroup\": \"True\", \"hoverlabel\": {\"namelength\": 0}, \"hovertemplate\": \"svc__C=0.6<br>pca__n_components=%{marker.color}<br>Accuracy=%{y}\", \"ids\": [20, 40, 60, 80, 100, 120, 140, 20, 40, 60, 80, 100, 120, 140, 20, 40, 60, 80, 100, 120, 140, 20, 40, 60, 80, 100, 120, 140], \"legendgroup\": \"\", \"marker\": {\"color\": [20, 40, 60, 80, 100, 120, 140, 20, 40, 60, 80, 100, 120, 140, 20, 40, 60, 80, 100, 120, 140, 20, 40, 60, 80, 100, 120, 140], \"coloraxis\": \"coloraxis\"}, \"name\": \"\", \"offsetgroup\": \"\", \"orientation\": \"v\", \"showlegend\": false, \"textposition\": \"auto\", \"x\": [20, 40, 60, 80, 100, 120, 140, 20, 40, 60, 80, 100, 120, 140, 20, 40, 60, 80, 100, 120, 140, 20, 40, 60, 80, 100, 120, 140], \"xaxis\": \"x\", \"y\": [0.8142857142857143, 0.8571428571428573, 0.8642857142857144, 0.8678571428571429, 0.8678571428571429, 0.8642857142857144, 0.8642857142857142, 0.8035714285714285, 0.8428571428571427, 0.8571428571428571, 0.8607142857142858, 0.8607142857142858, 0.8607142857142858, 0.8607142857142858, 0.7964285714285714, 0.8285714285714286, 0.8285714285714285, 0.8357142857142857, 0.8357142857142857, 0.8428571428571429, 0.8428571428571429, 0.7964285714285714, 0.8142857142857144, 0.8142857142857144, 0.8321428571428571, 0.8285714285714286, 0.8214285714285714, 0.825], \"yaxis\": \"y\", \"type\": \"bar\"}], \"name\": \"0.6\"}, {\"data\": [{\"alignmentgroup\": \"True\", \"hoverlabel\": {\"namelength\": 0}, \"hovertemplate\": \"svc__C=0.7<br>pca__n_components=%{marker.color}<br>Accuracy=%{y}\", \"ids\": [20, 40, 60, 80, 100, 120, 140, 20, 40, 60, 80, 100, 120, 140, 20, 40, 60, 80, 100, 120, 140, 20, 40, 60, 80, 100, 120, 140], \"legendgroup\": \"\", \"marker\": {\"color\": [20, 40, 60, 80, 100, 120, 140, 20, 40, 60, 80, 100, 120, 140, 20, 40, 60, 80, 100, 120, 140, 20, 40, 60, 80, 100, 120, 140], \"coloraxis\": \"coloraxis\"}, \"name\": \"\", \"offsetgroup\": \"\", \"orientation\": \"v\", \"showlegend\": false, \"textposition\": \"auto\", \"x\": [20, 40, 60, 80, 100, 120, 140, 20, 40, 60, 80, 100, 120, 140, 20, 40, 60, 80, 100, 120, 140, 20, 40, 60, 80, 100, 120, 140], \"xaxis\": \"x\", \"y\": [0.8428571428571429, 0.8678571428571429, 0.875, 0.8785714285714287, 0.8785714285714287, 0.8821428571428571, 0.8785714285714287, 0.825, 0.8607142857142858, 0.875, 0.875, 0.8785714285714287, 0.8785714285714287, 0.8785714285714287, 0.8107142857142857, 0.85, 0.8571428571428571, 0.8607142857142858, 0.8642857142857142, 0.8714285714285716, 0.8678571428571429, 0.8035714285714286, 0.8392857142857142, 0.8428571428571429, 0.8464285714285713, 0.8464285714285713, 0.8464285714285713, 0.8464285714285713], \"yaxis\": \"y\", \"type\": \"bar\"}], \"name\": \"0.7\"}, {\"data\": [{\"alignmentgroup\": \"True\", \"hoverlabel\": {\"namelength\": 0}, \"hovertemplate\": \"svc__C=0.8<br>pca__n_components=%{marker.color}<br>Accuracy=%{y}\", \"ids\": [20, 40, 60, 80, 100, 120, 140, 20, 40, 60, 80, 100, 120, 140, 20, 40, 60, 80, 100, 120, 140, 20, 40, 60, 80, 100, 120, 140], \"legendgroup\": \"\", \"marker\": {\"color\": [20, 40, 60, 80, 100, 120, 140, 20, 40, 60, 80, 100, 120, 140, 20, 40, 60, 80, 100, 120, 140, 20, 40, 60, 80, 100, 120, 140], \"coloraxis\": \"coloraxis\"}, \"name\": \"\", \"offsetgroup\": \"\", \"orientation\": \"v\", \"showlegend\": false, \"textposition\": \"auto\", \"x\": [20, 40, 60, 80, 100, 120, 140, 20, 40, 60, 80, 100, 120, 140, 20, 40, 60, 80, 100, 120, 140, 20, 40, 60, 80, 100, 120, 140], \"xaxis\": \"x\", \"y\": [0.8392857142857142, 0.8714285714285716, 0.8892857142857142, 0.8892857142857142, 0.8964285714285714, 0.8928571428571429, 0.8928571428571429, 0.8357142857142857, 0.8642857142857142, 0.875, 0.8785714285714287, 0.8821428571428571, 0.8821428571428571, 0.8857142857142858, 0.8214285714285714, 0.8571428571428571, 0.8642857142857142, 0.8607142857142858, 0.8642857142857142, 0.8678571428571429, 0.8714285714285716, 0.8142857142857143, 0.8464285714285715, 0.8535714285714286, 0.8535714285714286, 0.8535714285714286, 0.8535714285714286, 0.8535714285714286], \"yaxis\": \"y\", \"type\": \"bar\"}], \"name\": \"0.8\"}, {\"data\": [{\"alignmentgroup\": \"True\", \"hoverlabel\": {\"namelength\": 0}, \"hovertemplate\": \"svc__C=0.9<br>pca__n_components=%{marker.color}<br>Accuracy=%{y}\", \"ids\": [20, 40, 60, 80, 100, 120, 140, 20, 40, 60, 80, 100, 120, 140, 20, 40, 60, 80, 100, 120, 140, 20, 40, 60, 80, 100, 120, 140], \"legendgroup\": \"\", \"marker\": {\"color\": [20, 40, 60, 80, 100, 120, 140, 20, 40, 60, 80, 100, 120, 140, 20, 40, 60, 80, 100, 120, 140, 20, 40, 60, 80, 100, 120, 140], \"coloraxis\": \"coloraxis\"}, \"name\": \"\", \"offsetgroup\": \"\", \"orientation\": \"v\", \"showlegend\": false, \"textposition\": \"auto\", \"x\": [20, 40, 60, 80, 100, 120, 140, 20, 40, 60, 80, 100, 120, 140, 20, 40, 60, 80, 100, 120, 140, 20, 40, 60, 80, 100, 120, 140], \"xaxis\": \"x\", \"y\": [0.8535714285714284, 0.8892857142857142, 0.8857142857142858, 0.8928571428571429, 0.8928571428571429, 0.8928571428571429, 0.8928571428571429, 0.8428571428571429, 0.8821428571428571, 0.8857142857142858, 0.8928571428571429, 0.8892857142857142, 0.8928571428571429, 0.8964285714285714, 0.8321428571428573, 0.8678571428571429, 0.875, 0.8785714285714287, 0.8892857142857142, 0.8928571428571429, 0.8892857142857142, 0.825, 0.85, 0.8607142857142858, 0.8642857142857142, 0.8714285714285713, 0.8714285714285713, 0.8678571428571429], \"yaxis\": \"y\", \"type\": \"bar\"}], \"name\": \"0.9\"}, {\"data\": [{\"alignmentgroup\": \"True\", \"hoverlabel\": {\"namelength\": 0}, \"hovertemplate\": \"svc__C=1.0<br>pca__n_components=%{marker.color}<br>Accuracy=%{y}\", \"ids\": [20, 40, 60, 80, 100, 120, 140, 20, 40, 60, 80, 100, 120, 140, 20, 40, 60, 80, 100, 120, 140, 20, 40, 60, 80, 100, 120, 140], \"legendgroup\": \"\", \"marker\": {\"color\": [20, 40, 60, 80, 100, 120, 140, 20, 40, 60, 80, 100, 120, 140, 20, 40, 60, 80, 100, 120, 140, 20, 40, 60, 80, 100, 120, 140], \"coloraxis\": \"coloraxis\"}, \"name\": \"\", \"offsetgroup\": \"\", \"orientation\": \"v\", \"showlegend\": false, \"textposition\": \"auto\", \"x\": [20, 40, 60, 80, 100, 120, 140, 20, 40, 60, 80, 100, 120, 140, 20, 40, 60, 80, 100, 120, 140, 20, 40, 60, 80, 100, 120, 140], \"xaxis\": \"x\", \"y\": [0.8607142857142858, 0.8857142857142858, 0.8892857142857142, 0.8964285714285716, 0.9, 0.9, 0.9035714285714285, 0.8464285714285715, 0.8892857142857142, 0.8928571428571429, 0.8964285714285714, 0.8928571428571429, 0.8928571428571429, 0.9, 0.8428571428571429, 0.8892857142857142, 0.8928571428571429, 0.8928571428571429, 0.8892857142857142, 0.8892857142857142, 0.8928571428571429, 0.8357142857142857, 0.8678571428571429, 0.8678571428571429, 0.8714285714285716, 0.875, 0.8857142857142858, 0.8892857142857142], \"yaxis\": \"y\", \"type\": \"bar\"}], \"name\": \"1.0\"}, {\"data\": [{\"alignmentgroup\": \"True\", \"hoverlabel\": {\"namelength\": 0}, \"hovertemplate\": \"svc__C=2.0<br>pca__n_components=%{marker.color}<br>Accuracy=%{y}\", \"ids\": [20, 40, 60, 80, 100, 120, 140, 20, 40, 60, 80, 100, 120, 140, 20, 40, 60, 80, 100, 120, 140, 20, 40, 60, 80, 100, 120, 140], \"legendgroup\": \"\", \"marker\": {\"color\": [20, 40, 60, 80, 100, 120, 140, 20, 40, 60, 80, 100, 120, 140, 20, 40, 60, 80, 100, 120, 140, 20, 40, 60, 80, 100, 120, 140], \"coloraxis\": \"coloraxis\"}, \"name\": \"\", \"offsetgroup\": \"\", \"orientation\": \"v\", \"showlegend\": false, \"textposition\": \"auto\", \"x\": [20, 40, 60, 80, 100, 120, 140, 20, 40, 60, 80, 100, 120, 140, 20, 40, 60, 80, 100, 120, 140, 20, 40, 60, 80, 100, 120, 140], \"xaxis\": \"x\", \"y\": [0.9071428571428571, 0.9214285714285714, 0.9285714285714285, 0.925, 0.9285714285714285, 0.9285714285714285, 0.9321428571428572, 0.9, 0.9178571428571429, 0.9285714285714285, 0.925, 0.9285714285714285, 0.9321428571428572, 0.9285714285714285, 0.9035714285714287, 0.9142857142857143, 0.925, 0.9214285714285714, 0.9321428571428572, 0.9285714285714285, 0.9285714285714285, 0.8964285714285714, 0.9142857142857143, 0.9214285714285714, 0.9214285714285714, 0.9214285714285714, 0.9214285714285714, 0.9214285714285714], \"yaxis\": \"y\", \"type\": \"bar\"}], \"name\": \"2.0\"}, {\"data\": [{\"alignmentgroup\": \"True\", \"hoverlabel\": {\"namelength\": 0}, \"hovertemplate\": \"svc__C=3.0<br>pca__n_components=%{marker.color}<br>Accuracy=%{y}\", \"ids\": [20, 40, 60, 80, 100, 120, 140, 20, 40, 60, 80, 100, 120, 140, 20, 40, 60, 80, 100, 120, 140, 20, 40, 60, 80, 100, 120, 140], \"legendgroup\": \"\", \"marker\": {\"color\": [20, 40, 60, 80, 100, 120, 140, 20, 40, 60, 80, 100, 120, 140, 20, 40, 60, 80, 100, 120, 140, 20, 40, 60, 80, 100, 120, 140], \"coloraxis\": \"coloraxis\"}, \"name\": \"\", \"offsetgroup\": \"\", \"orientation\": \"v\", \"showlegend\": false, \"textposition\": \"auto\", \"x\": [20, 40, 60, 80, 100, 120, 140, 20, 40, 60, 80, 100, 120, 140, 20, 40, 60, 80, 100, 120, 140, 20, 40, 60, 80, 100, 120, 140], \"xaxis\": \"x\", \"y\": [0.9035714285714285, 0.9285714285714286, 0.9285714285714285, 0.9285714285714286, 0.9321428571428572, 0.9321428571428572, 0.9321428571428572, 0.8964285714285714, 0.925, 0.925, 0.925, 0.9285714285714285, 0.9321428571428572, 0.9357142857142856, 0.9035714285714285, 0.9178571428571429, 0.9214285714285714, 0.9214285714285714, 0.925, 0.9285714285714285, 0.9321428571428572, 0.9035714285714285, 0.9178571428571429, 0.9178571428571429, 0.9178571428571429, 0.9214285714285714, 0.9214285714285714, 0.925], \"yaxis\": \"y\", \"type\": \"bar\"}], \"name\": \"3.0\"}, {\"data\": [{\"alignmentgroup\": \"True\", \"hoverlabel\": {\"namelength\": 0}, \"hovertemplate\": \"svc__C=4.0<br>pca__n_components=%{marker.color}<br>Accuracy=%{y}\", \"ids\": [20, 40, 60, 80, 100, 120, 140, 20, 40, 60, 80, 100, 120, 140, 20, 40, 60, 80, 100, 120, 140, 20, 40, 60, 80, 100, 120, 140], \"legendgroup\": \"\", \"marker\": {\"color\": [20, 40, 60, 80, 100, 120, 140, 20, 40, 60, 80, 100, 120, 140, 20, 40, 60, 80, 100, 120, 140, 20, 40, 60, 80, 100, 120, 140], \"coloraxis\": \"coloraxis\"}, \"name\": \"\", \"offsetgroup\": \"\", \"orientation\": \"v\", \"showlegend\": false, \"textposition\": \"auto\", \"x\": [20, 40, 60, 80, 100, 120, 140, 20, 40, 60, 80, 100, 120, 140, 20, 40, 60, 80, 100, 120, 140, 20, 40, 60, 80, 100, 120, 140], \"xaxis\": \"x\", \"y\": [0.9035714285714285, 0.9285714285714286, 0.9285714285714285, 0.9285714285714286, 0.9321428571428572, 0.9321428571428572, 0.9321428571428572, 0.9, 0.925, 0.925, 0.925, 0.9285714285714285, 0.9321428571428572, 0.9357142857142856, 0.9035714285714285, 0.9178571428571429, 0.9214285714285714, 0.9214285714285714, 0.925, 0.9285714285714285, 0.9321428571428572, 0.9035714285714285, 0.9142857142857143, 0.9178571428571429, 0.9178571428571429, 0.9214285714285714, 0.9214285714285714, 0.925], \"yaxis\": \"y\", \"type\": \"bar\"}], \"name\": \"4.0\"}, {\"data\": [{\"alignmentgroup\": \"True\", \"hoverlabel\": {\"namelength\": 0}, \"hovertemplate\": \"svc__C=5.0<br>pca__n_components=%{marker.color}<br>Accuracy=%{y}\", \"ids\": [20, 40, 60, 80, 100, 120, 140, 20, 40, 60, 80, 100, 120, 140, 20, 40, 60, 80, 100, 120, 140, 20, 40, 60, 80, 100, 120, 140], \"legendgroup\": \"\", \"marker\": {\"color\": [20, 40, 60, 80, 100, 120, 140, 20, 40, 60, 80, 100, 120, 140, 20, 40, 60, 80, 100, 120, 140, 20, 40, 60, 80, 100, 120, 140], \"coloraxis\": \"coloraxis\"}, \"name\": \"\", \"offsetgroup\": \"\", \"orientation\": \"v\", \"showlegend\": false, \"textposition\": \"auto\", \"x\": [20, 40, 60, 80, 100, 120, 140, 20, 40, 60, 80, 100, 120, 140, 20, 40, 60, 80, 100, 120, 140, 20, 40, 60, 80, 100, 120, 140], \"xaxis\": \"x\", \"y\": [0.9071428571428571, 0.9285714285714286, 0.9285714285714285, 0.9285714285714286, 0.9321428571428572, 0.9321428571428572, 0.9321428571428572, 0.9, 0.925, 0.925, 0.925, 0.9285714285714285, 0.9321428571428572, 0.9357142857142856, 0.9035714285714285, 0.9178571428571429, 0.9214285714285714, 0.9214285714285714, 0.925, 0.9285714285714285, 0.9321428571428572, 0.9071428571428571, 0.9142857142857143, 0.9178571428571429, 0.9178571428571429, 0.9214285714285714, 0.9214285714285714, 0.925], \"yaxis\": \"y\", \"type\": \"bar\"}], \"name\": \"5.0\"}, {\"data\": [{\"alignmentgroup\": \"True\", \"hoverlabel\": {\"namelength\": 0}, \"hovertemplate\": \"svc__C=6.0<br>pca__n_components=%{marker.color}<br>Accuracy=%{y}\", \"ids\": [20, 40, 60, 80, 100, 120, 140, 20, 40, 60, 80, 100, 120, 140, 20, 40, 60, 80, 100, 120, 140, 20, 40, 60, 80, 100, 120, 140], \"legendgroup\": \"\", \"marker\": {\"color\": [20, 40, 60, 80, 100, 120, 140, 20, 40, 60, 80, 100, 120, 140, 20, 40, 60, 80, 100, 120, 140, 20, 40, 60, 80, 100, 120, 140], \"coloraxis\": \"coloraxis\"}, \"name\": \"\", \"offsetgroup\": \"\", \"orientation\": \"v\", \"showlegend\": false, \"textposition\": \"auto\", \"x\": [20, 40, 60, 80, 100, 120, 140, 20, 40, 60, 80, 100, 120, 140, 20, 40, 60, 80, 100, 120, 140, 20, 40, 60, 80, 100, 120, 140], \"xaxis\": \"x\", \"y\": [0.9071428571428571, 0.9285714285714286, 0.9285714285714285, 0.9285714285714286, 0.9321428571428572, 0.9321428571428572, 0.9321428571428572, 0.9035714285714287, 0.925, 0.925, 0.925, 0.9285714285714285, 0.9321428571428572, 0.9357142857142856, 0.9035714285714285, 0.9178571428571429, 0.9214285714285714, 0.9214285714285714, 0.925, 0.9285714285714285, 0.9321428571428572, 0.9071428571428571, 0.9142857142857143, 0.9178571428571429, 0.9178571428571429, 0.9214285714285714, 0.9214285714285714, 0.925], \"yaxis\": \"y\", \"type\": \"bar\"}], \"name\": \"6.0\"}, {\"data\": [{\"alignmentgroup\": \"True\", \"hoverlabel\": {\"namelength\": 0}, \"hovertemplate\": \"svc__C=7.0<br>pca__n_components=%{marker.color}<br>Accuracy=%{y}\", \"ids\": [20, 40, 60, 80, 100, 120, 140, 20, 40, 60, 80, 100, 120, 140, 20, 40, 60, 80, 100, 120, 140, 20, 40, 60, 80, 100, 120, 140], \"legendgroup\": \"\", \"marker\": {\"color\": [20, 40, 60, 80, 100, 120, 140, 20, 40, 60, 80, 100, 120, 140, 20, 40, 60, 80, 100, 120, 140, 20, 40, 60, 80, 100, 120, 140], \"coloraxis\": \"coloraxis\"}, \"name\": \"\", \"offsetgroup\": \"\", \"orientation\": \"v\", \"showlegend\": false, \"textposition\": \"auto\", \"x\": [20, 40, 60, 80, 100, 120, 140, 20, 40, 60, 80, 100, 120, 140, 20, 40, 60, 80, 100, 120, 140, 20, 40, 60, 80, 100, 120, 140], \"xaxis\": \"x\", \"y\": [0.9071428571428571, 0.9285714285714286, 0.9285714285714285, 0.9285714285714286, 0.9321428571428572, 0.9321428571428572, 0.9321428571428572, 0.9035714285714287, 0.925, 0.925, 0.925, 0.9285714285714285, 0.9321428571428572, 0.9357142857142856, 0.9035714285714285, 0.9178571428571429, 0.9214285714285714, 0.9214285714285714, 0.925, 0.9285714285714285, 0.9321428571428572, 0.9071428571428571, 0.9142857142857143, 0.9178571428571429, 0.9178571428571429, 0.9214285714285714, 0.9214285714285714, 0.925], \"yaxis\": \"y\", \"type\": \"bar\"}], \"name\": \"7.0\"}, {\"data\": [{\"alignmentgroup\": \"True\", \"hoverlabel\": {\"namelength\": 0}, \"hovertemplate\": \"svc__C=8.0<br>pca__n_components=%{marker.color}<br>Accuracy=%{y}\", \"ids\": [20, 40, 60, 80, 100, 120, 140, 20, 40, 60, 80, 100, 120, 140, 20, 40, 60, 80, 100, 120, 140, 20, 40, 60, 80, 100, 120, 140], \"legendgroup\": \"\", \"marker\": {\"color\": [20, 40, 60, 80, 100, 120, 140, 20, 40, 60, 80, 100, 120, 140, 20, 40, 60, 80, 100, 120, 140, 20, 40, 60, 80, 100, 120, 140], \"coloraxis\": \"coloraxis\"}, \"name\": \"\", \"offsetgroup\": \"\", \"orientation\": \"v\", \"showlegend\": false, \"textposition\": \"auto\", \"x\": [20, 40, 60, 80, 100, 120, 140, 20, 40, 60, 80, 100, 120, 140, 20, 40, 60, 80, 100, 120, 140, 20, 40, 60, 80, 100, 120, 140], \"xaxis\": \"x\", \"y\": [0.9071428571428571, 0.9285714285714286, 0.9285714285714285, 0.9285714285714286, 0.9321428571428572, 0.9321428571428572, 0.9321428571428572, 0.9035714285714287, 0.925, 0.925, 0.925, 0.9285714285714285, 0.9321428571428572, 0.9357142857142856, 0.9071428571428571, 0.9178571428571429, 0.9214285714285714, 0.9214285714285714, 0.925, 0.9285714285714285, 0.9321428571428572, 0.9071428571428571, 0.9142857142857143, 0.9178571428571429, 0.9178571428571429, 0.9214285714285714, 0.9214285714285714, 0.925], \"yaxis\": \"y\", \"type\": \"bar\"}], \"name\": \"8.0\"}, {\"data\": [{\"alignmentgroup\": \"True\", \"hoverlabel\": {\"namelength\": 0}, \"hovertemplate\": \"svc__C=9.0<br>pca__n_components=%{marker.color}<br>Accuracy=%{y}\", \"ids\": [20, 40, 60, 80, 100, 120, 140, 20, 40, 60, 80, 100, 120, 140, 20, 40, 60, 80, 100, 120, 140, 20, 40, 60, 80, 100, 120, 140], \"legendgroup\": \"\", \"marker\": {\"color\": [20, 40, 60, 80, 100, 120, 140, 20, 40, 60, 80, 100, 120, 140, 20, 40, 60, 80, 100, 120, 140, 20, 40, 60, 80, 100, 120, 140], \"coloraxis\": \"coloraxis\"}, \"name\": \"\", \"offsetgroup\": \"\", \"orientation\": \"v\", \"showlegend\": false, \"textposition\": \"auto\", \"x\": [20, 40, 60, 80, 100, 120, 140, 20, 40, 60, 80, 100, 120, 140, 20, 40, 60, 80, 100, 120, 140, 20, 40, 60, 80, 100, 120, 140], \"xaxis\": \"x\", \"y\": [0.9071428571428571, 0.9285714285714286, 0.9285714285714285, 0.9285714285714286, 0.9321428571428572, 0.9321428571428572, 0.9321428571428572, 0.9035714285714287, 0.925, 0.925, 0.925, 0.9285714285714285, 0.9321428571428572, 0.9357142857142856, 0.9071428571428571, 0.9178571428571429, 0.9214285714285714, 0.9214285714285714, 0.925, 0.9285714285714285, 0.9321428571428572, 0.9071428571428571, 0.9142857142857143, 0.9178571428571429, 0.9178571428571429, 0.9214285714285714, 0.9214285714285714, 0.925], \"yaxis\": \"y\", \"type\": \"bar\"}], \"name\": \"9.0\"}, {\"data\": [{\"alignmentgroup\": \"True\", \"hoverlabel\": {\"namelength\": 0}, \"hovertemplate\": \"svc__C=10.0<br>pca__n_components=%{marker.color}<br>Accuracy=%{y}\", \"ids\": [20, 40, 60, 80, 100, 120, 140, 20, 40, 60, 80, 100, 120, 140, 20, 40, 60, 80, 100, 120, 140, 20, 40, 60, 80, 100, 120, 140], \"legendgroup\": \"\", \"marker\": {\"color\": [20, 40, 60, 80, 100, 120, 140, 20, 40, 60, 80, 100, 120, 140, 20, 40, 60, 80, 100, 120, 140, 20, 40, 60, 80, 100, 120, 140], \"coloraxis\": \"coloraxis\"}, \"name\": \"\", \"offsetgroup\": \"\", \"orientation\": \"v\", \"showlegend\": false, \"textposition\": \"auto\", \"x\": [20, 40, 60, 80, 100, 120, 140, 20, 40, 60, 80, 100, 120, 140, 20, 40, 60, 80, 100, 120, 140, 20, 40, 60, 80, 100, 120, 140], \"xaxis\": \"x\", \"y\": [0.9071428571428571, 0.9285714285714286, 0.9285714285714285, 0.9285714285714286, 0.9321428571428572, 0.9321428571428572, 0.9321428571428572, 0.9035714285714287, 0.925, 0.925, 0.925, 0.9285714285714285, 0.9321428571428572, 0.9357142857142856, 0.9071428571428571, 0.9178571428571429, 0.9214285714285714, 0.9214285714285714, 0.925, 0.9285714285714285, 0.9321428571428572, 0.9107142857142858, 0.9142857142857143, 0.9178571428571429, 0.9178571428571429, 0.9214285714285714, 0.9214285714285714, 0.925], \"yaxis\": \"y\", \"type\": \"bar\"}], \"name\": \"10.0\"}]);\n",
              "                        }).then(function(){\n",
              "                            \n",
              "var gd = document.getElementById('88e0b535-ac74-464e-9eab-e2a5b16b85ca');\n",
              "var x = new MutationObserver(function (mutations, observer) {{\n",
              "        var display = window.getComputedStyle(gd).display;\n",
              "        if (!display || display === 'none') {{\n",
              "            console.log([gd, 'removed!']);\n",
              "            Plotly.purge(gd);\n",
              "            observer.disconnect();\n",
              "        }}\n",
              "}});\n",
              "\n",
              "// Listen for the removal of the full notebook cells\n",
              "var notebookContainer = gd.closest('#notebook-container');\n",
              "if (notebookContainer) {{\n",
              "    x.observe(notebookContainer, {childList: true});\n",
              "}}\n",
              "\n",
              "// Listen for the clearing of the current output cell\n",
              "var outputEl = gd.closest('.output');\n",
              "if (outputEl) {{\n",
              "    x.observe(outputEl, {childList: true});\n",
              "}}\n",
              "\n",
              "                        })\n",
              "                };\n",
              "                \n",
              "            </script>\n",
              "        </div>\n",
              "</body>\n",
              "</html>"
            ]
          },
          "metadata": {}
        }
      ],
      "source": [
        "\n",
        "clf = GridSearchCV(pipe, param_grid=param_grid)\n",
        "clf = clf.fit(X_train, y_train)\n",
        "print(\"Grid Search explored using Best hyper-parameter\") \n",
        "print(clf.best_estimator_)\n",
        "\n",
        "## Derive the result as a Dataframe\n",
        "summary = pd.concat([pd.DataFrame(clf.cv_results_[\"params\"]),pd.DataFrame(clf.cv_results_[\"mean_test_score\"], columns=[\"Accuracy\"])],axis=1)\n",
        "\n",
        "## Visualize the results\n",
        "fig = px.bar(summary, x=\"pca__n_components\", y=\"Accuracy\", color=\"pca__n_components\",\n",
        "  animation_frame=\"svc__C\", animation_group=\"pca__n_components\", range_y=[0.5,1])\n",
        "fig.show()"
      ]
    },
    {
      "cell_type": "code",
      "execution_count": null,
      "id": "a0253707",
      "metadata": {
        "colab": {
          "base_uri": "https://localhost:8080/"
        },
        "id": "a0253707",
        "outputId": "958e0cb7-6110-4ea2-be97-8879a8bc33bb"
      },
      "outputs": [
        {
          "output_type": "stream",
          "name": "stdout",
          "text": [
            "Training data performance [1.0]\n",
            "Data Performance for Verification [0.9083333333333333]\n"
          ]
        }
      ],
      "source": [
        "y_pred = clf.predict(X_train) \n",
        "print(\"Training data performance [{}]\".format(accuracy_score(y_train, y_pred)))\n",
        "\n",
        "y_pred = clf.predict(X_test) \n",
        "print(\"Data Performance for Verification [{}]\".format(accuracy_score(y_test, y_pred)))"
      ]
    },
    {
      "cell_type": "code",
      "execution_count": null,
      "id": "de42f6b2",
      "metadata": {
        "id": "de42f6b2"
      },
      "outputs": [],
      "source": [
        "class NeuralNetwork(nn.Module):\n",
        "    def __init__(self, hidden_size, class_size):\n",
        "        super(NeuralNetwork, self).__init__()\n",
        "        self.fc = nn.Sequential(\n",
        "                    nn.BatchNorm1d(class_size),\n",
        "                    nn.Linear(class_size, hidden_size),\n",
        "                    nn.Tanh(),\n",
        "                    nn.BatchNorm1d(hidden_size),\n",
        "                    nn.Linear(hidden_size, class_size),\n",
        "        )\n",
        "    \n",
        "    def forward(self, x, label=None):\n",
        "        output = self.fc(x)\n",
        "        return output"
      ]
    },
    {
      "cell_type": "code",
      "execution_count": null,
      "id": "b44ba6c8",
      "metadata": {
        "id": "b44ba6c8"
      },
      "outputs": [],
      "source": [
        "class FaceRecognition(object):\n",
        "    def __init__(self, pca, svm, hidden_size, class_size, learning_rate=0.001):\n",
        "        ## PCA, SVM setting\n",
        "        self.pca = pca\n",
        "        self.svm = svm\n",
        "        \n",
        "        self.class_size = class_size\n",
        "        \n",
        "        ## Neural Network build\n",
        "        self.network = NeuralNetwork(hidden_size, class_size)\n",
        "        \n",
        "        ## loss\n",
        "        #self.loss = nn.MSELoss()\n",
        "        self.loss = nn.CrossEntropyLoss()\n",
        "        self.optimizer = optim.Adam(self.network.parameters(), lr=learning_rate)\n",
        "    \n",
        "    ## conversion function\n",
        "    def transform(self, x, label=None):\n",
        "        ## PCA data conversion using\n",
        "        projected_x = self.pca.transform(x) \n",
        "        \n",
        "        ## SVM Score Calculation\n",
        "        class_scores = self.svm.decision_function(projected_x)\n",
        "        \n",
        "        ## Neural Network normalized to\n",
        "        tensor_score = torch.tensor(class_scores, dtype=torch.float)\n",
        "        output = self.network(tensor_score)\n",
        "        \n",
        "        ## Label Calculate the loss using\n",
        "        if label is not None:\n",
        "            label = torch.tensor(label, dtype=torch.long)\n",
        "            \n",
        "            ## MSE Calculate the loss using\n",
        "            return self.loss(output, label)\n",
        "        \n",
        "        return output\n",
        "    \n",
        "    ## training function\n",
        "\n",
        "    def fit(self, x, label):\n",
        "        self.network.train()\n",
        "        self.network.zero_grad()\n",
        "        \n",
        "        loss = self.transform(x, label)\n",
        "        loss.backward()\n",
        "        \n",
        "        self.optimizer.step()\n",
        "        return float(loss)\n",
        "    \n",
        "    ## function for prediction\n",
        "\n",
        "    def predict(self, x):\n",
        "        self.network.eval()\n",
        "        with torch.no_grad():\n",
        "            output = self.transform(x)\n",
        "            \n",
        "        output = output.argmax(dim=1).cpu().numpy()\n",
        "        return output\n",
        "    \n",
        "    def raw_predict(self, x):\n",
        "        ## PCA data conversion using\n",
        "        projected_x = self.pca.transform(x) \n",
        "        \n",
        "        ## SVM Score Calculation\n",
        "\n",
        "        return self.svm.predict(projected_x)"
      ]
    },
    {
      "cell_type": "code",
      "execution_count": null,
      "id": "926ba773",
      "metadata": {
        "colab": {
          "base_uri": "https://localhost:8080/",
          "height": 85,
          "referenced_widgets": [
            "df7f6bb319e343b6b7b3aa2b6a0e4a50",
            "7780cdb31cbd465a9b6e48fefde695a2",
            "cf4d336b8b014ab8ba15e8afd8cfffb2",
            "a9bb6b9f089f4eebbeeceac433428c33",
            "af15d9343fab4fa2803ef74815538c64",
            "f2d6df47bf8842d0a422385cf6d4e23a",
            "8e64808e1b9345e7be234dcd504d63d0",
            "c26f96d166e34cf590b00e4c4ba2ceb1",
            "8653b6cd3fd247cd8a310661995544cf",
            "2a276c63617b475bbaa285abab334cfa",
            "5eb772d2afd546cfa0511dd0c3e15722"
          ]
        },
        "id": "926ba773",
        "outputId": "d6e8cf25-feb5-4351-e1d5-c04a3f85be4c"
      },
      "outputs": [
        {
          "output_type": "display_data",
          "data": {
            "application/vnd.jupyter.widget-view+json": {
              "model_id": "df7f6bb319e343b6b7b3aa2b6a0e4a50",
              "version_minor": 0,
              "version_major": 2
            },
            "text/plain": [
              "Epoch:   0%|          | 0/300 [00:00<?, ?it/s]"
            ]
          },
          "metadata": {}
        },
        {
          "output_type": "stream",
          "name": "stdout",
          "text": [
            "Training data performance [1.0]\n",
            "Data Performance for Verification [0.9083333333333333]\n"
          ]
        }
      ],
      "source": [
        "degree = clf.best_estimator_.get_params()['pca__degree']\n",
        "n_components = clf.best_estimator_.get_params()['pca__n_components']\n",
        "C = clf.best_estimator_.get_params()['svc__C']\n",
        "\n",
        "svm = SVC(class_weight ='balanced', C=C)\n",
        "pca = KernelPCA(kernel=\"poly\", degree=degree, n_components=n_components)\n",
        "\n",
        "## SVM, PCA Fitting\n",
        "X_transformed = pca.fit_transform(X_train)\n",
        "svm.fit(X_transformed, y_train) \n",
        " \n",
        "## Build the final model\n",
        "\n",
        "hidden_size = 10\n",
        "model = FaceRecognition(pca, svm, hidden_size=n_classes , class_size=n_classes, learning_rate=0.002) \n",
        " \n",
        "## training epoch setting\n",
        "epochs = 300 \n",
        "\n",
        "## to learn\n",
        "progress_bar = tqdm(range(epochs), desc='Epoch')\n",
        "for epoch in progress_bar:\n",
        "    loss = model.fit(X_train, y_train)\n",
        "    progress_bar.set_postfix_str(\"loss [{}]\".format(loss))\n",
        "\n",
        "\n",
        "## Final model performance evaluation\n",
        "y_train_pred = model.predict(X_train)\n",
        "print(\"Training data performance [{}]\".format(accuracy_score(y_train, y_train_pred)))\n",
        "\n",
        "y_test_pred = model.predict(X_test)\n",
        "print(\"Data Performance for Verification [{}]\".format(accuracy_score(y_test, y_test_pred)))\n"
      ]
    },
    {
      "cell_type": "code",
      "execution_count": null,
      "id": "088c93d7",
      "metadata": {
        "id": "088c93d7"
      },
      "outputs": [],
      "source": []
    }
  ],
  "metadata": {
    "kernelspec": {
      "display_name": "Python 3",
      "language": "python",
      "name": "python3"
    },
    "language_info": {
      "codemirror_mode": {
        "name": "ipython",
        "version": 3
      },
      "file_extension": ".py",
      "mimetype": "text/x-python",
      "name": "python",
      "nbconvert_exporter": "python",
      "pygments_lexer": "ipython3",
      "version": "3.8.8"
    },
    "colab": {
      "provenance": []
    },
    "widgets": {
      "application/vnd.jupyter.widget-state+json": {
        "df7f6bb319e343b6b7b3aa2b6a0e4a50": {
          "model_module": "@jupyter-widgets/controls",
          "model_name": "HBoxModel",
          "model_module_version": "1.5.0",
          "state": {
            "_view_name": "HBoxView",
            "_dom_classes": [],
            "_model_name": "HBoxModel",
            "_view_module": "@jupyter-widgets/controls",
            "_model_module_version": "1.5.0",
            "_view_count": null,
            "_view_module_version": "1.5.0",
            "box_style": "",
            "layout": "IPY_MODEL_7780cdb31cbd465a9b6e48fefde695a2",
            "_model_module": "@jupyter-widgets/controls",
            "children": [
              "IPY_MODEL_cf4d336b8b014ab8ba15e8afd8cfffb2",
              "IPY_MODEL_a9bb6b9f089f4eebbeeceac433428c33",
              "IPY_MODEL_af15d9343fab4fa2803ef74815538c64"
            ]
          }
        },
        "7780cdb31cbd465a9b6e48fefde695a2": {
          "model_module": "@jupyter-widgets/base",
          "model_name": "LayoutModel",
          "model_module_version": "1.2.0",
          "state": {
            "_view_name": "LayoutView",
            "grid_template_rows": null,
            "right": null,
            "justify_content": null,
            "_view_module": "@jupyter-widgets/base",
            "overflow": null,
            "_model_module_version": "1.2.0",
            "_view_count": null,
            "flex_flow": null,
            "width": null,
            "min_width": null,
            "border": null,
            "align_items": null,
            "bottom": null,
            "_model_module": "@jupyter-widgets/base",
            "top": null,
            "grid_column": null,
            "overflow_y": null,
            "overflow_x": null,
            "grid_auto_flow": null,
            "grid_area": null,
            "grid_template_columns": null,
            "flex": null,
            "_model_name": "LayoutModel",
            "justify_items": null,
            "grid_row": null,
            "max_height": null,
            "align_content": null,
            "visibility": null,
            "align_self": null,
            "height": null,
            "min_height": null,
            "padding": null,
            "grid_auto_rows": null,
            "grid_gap": null,
            "max_width": null,
            "order": null,
            "_view_module_version": "1.2.0",
            "grid_template_areas": null,
            "object_position": null,
            "object_fit": null,
            "grid_auto_columns": null,
            "margin": null,
            "display": null,
            "left": null
          }
        },
        "cf4d336b8b014ab8ba15e8afd8cfffb2": {
          "model_module": "@jupyter-widgets/controls",
          "model_name": "HTMLModel",
          "model_module_version": "1.5.0",
          "state": {
            "_view_name": "HTMLView",
            "style": "IPY_MODEL_f2d6df47bf8842d0a422385cf6d4e23a",
            "_dom_classes": [],
            "description": "",
            "_model_name": "HTMLModel",
            "placeholder": "​",
            "_view_module": "@jupyter-widgets/controls",
            "_model_module_version": "1.5.0",
            "value": "Epoch: 100%",
            "_view_count": null,
            "_view_module_version": "1.5.0",
            "description_tooltip": null,
            "_model_module": "@jupyter-widgets/controls",
            "layout": "IPY_MODEL_8e64808e1b9345e7be234dcd504d63d0"
          }
        },
        "a9bb6b9f089f4eebbeeceac433428c33": {
          "model_module": "@jupyter-widgets/controls",
          "model_name": "FloatProgressModel",
          "model_module_version": "1.5.0",
          "state": {
            "_view_name": "ProgressView",
            "style": "IPY_MODEL_c26f96d166e34cf590b00e4c4ba2ceb1",
            "_dom_classes": [],
            "description": "",
            "_model_name": "FloatProgressModel",
            "bar_style": "success",
            "max": 300,
            "_view_module": "@jupyter-widgets/controls",
            "_model_module_version": "1.5.0",
            "value": 300,
            "_view_count": null,
            "_view_module_version": "1.5.0",
            "orientation": "horizontal",
            "min": 0,
            "description_tooltip": null,
            "_model_module": "@jupyter-widgets/controls",
            "layout": "IPY_MODEL_8653b6cd3fd247cd8a310661995544cf"
          }
        },
        "af15d9343fab4fa2803ef74815538c64": {
          "model_module": "@jupyter-widgets/controls",
          "model_name": "HTMLModel",
          "model_module_version": "1.5.0",
          "state": {
            "_view_name": "HTMLView",
            "style": "IPY_MODEL_2a276c63617b475bbaa285abab334cfa",
            "_dom_classes": [],
            "description": "",
            "_model_name": "HTMLModel",
            "placeholder": "​",
            "_view_module": "@jupyter-widgets/controls",
            "_model_module_version": "1.5.0",
            "value": " 300/300 [00:32&lt;00:00,  9.13it/s, loss [0.032299283891916275]]",
            "_view_count": null,
            "_view_module_version": "1.5.0",
            "description_tooltip": null,
            "_model_module": "@jupyter-widgets/controls",
            "layout": "IPY_MODEL_5eb772d2afd546cfa0511dd0c3e15722"
          }
        },
        "f2d6df47bf8842d0a422385cf6d4e23a": {
          "model_module": "@jupyter-widgets/controls",
          "model_name": "DescriptionStyleModel",
          "model_module_version": "1.5.0",
          "state": {
            "_view_name": "StyleView",
            "_model_name": "DescriptionStyleModel",
            "description_width": "",
            "_view_module": "@jupyter-widgets/base",
            "_model_module_version": "1.5.0",
            "_view_count": null,
            "_view_module_version": "1.2.0",
            "_model_module": "@jupyter-widgets/controls"
          }
        },
        "8e64808e1b9345e7be234dcd504d63d0": {
          "model_module": "@jupyter-widgets/base",
          "model_name": "LayoutModel",
          "model_module_version": "1.2.0",
          "state": {
            "_view_name": "LayoutView",
            "grid_template_rows": null,
            "right": null,
            "justify_content": null,
            "_view_module": "@jupyter-widgets/base",
            "overflow": null,
            "_model_module_version": "1.2.0",
            "_view_count": null,
            "flex_flow": null,
            "width": null,
            "min_width": null,
            "border": null,
            "align_items": null,
            "bottom": null,
            "_model_module": "@jupyter-widgets/base",
            "top": null,
            "grid_column": null,
            "overflow_y": null,
            "overflow_x": null,
            "grid_auto_flow": null,
            "grid_area": null,
            "grid_template_columns": null,
            "flex": null,
            "_model_name": "LayoutModel",
            "justify_items": null,
            "grid_row": null,
            "max_height": null,
            "align_content": null,
            "visibility": null,
            "align_self": null,
            "height": null,
            "min_height": null,
            "padding": null,
            "grid_auto_rows": null,
            "grid_gap": null,
            "max_width": null,
            "order": null,
            "_view_module_version": "1.2.0",
            "grid_template_areas": null,
            "object_position": null,
            "object_fit": null,
            "grid_auto_columns": null,
            "margin": null,
            "display": null,
            "left": null
          }
        },
        "c26f96d166e34cf590b00e4c4ba2ceb1": {
          "model_module": "@jupyter-widgets/controls",
          "model_name": "ProgressStyleModel",
          "model_module_version": "1.5.0",
          "state": {
            "_view_name": "StyleView",
            "_model_name": "ProgressStyleModel",
            "description_width": "",
            "_view_module": "@jupyter-widgets/base",
            "_model_module_version": "1.5.0",
            "_view_count": null,
            "_view_module_version": "1.2.0",
            "bar_color": null,
            "_model_module": "@jupyter-widgets/controls"
          }
        },
        "8653b6cd3fd247cd8a310661995544cf": {
          "model_module": "@jupyter-widgets/base",
          "model_name": "LayoutModel",
          "model_module_version": "1.2.0",
          "state": {
            "_view_name": "LayoutView",
            "grid_template_rows": null,
            "right": null,
            "justify_content": null,
            "_view_module": "@jupyter-widgets/base",
            "overflow": null,
            "_model_module_version": "1.2.0",
            "_view_count": null,
            "flex_flow": null,
            "width": null,
            "min_width": null,
            "border": null,
            "align_items": null,
            "bottom": null,
            "_model_module": "@jupyter-widgets/base",
            "top": null,
            "grid_column": null,
            "overflow_y": null,
            "overflow_x": null,
            "grid_auto_flow": null,
            "grid_area": null,
            "grid_template_columns": null,
            "flex": null,
            "_model_name": "LayoutModel",
            "justify_items": null,
            "grid_row": null,
            "max_height": null,
            "align_content": null,
            "visibility": null,
            "align_self": null,
            "height": null,
            "min_height": null,
            "padding": null,
            "grid_auto_rows": null,
            "grid_gap": null,
            "max_width": null,
            "order": null,
            "_view_module_version": "1.2.0",
            "grid_template_areas": null,
            "object_position": null,
            "object_fit": null,
            "grid_auto_columns": null,
            "margin": null,
            "display": null,
            "left": null
          }
        },
        "2a276c63617b475bbaa285abab334cfa": {
          "model_module": "@jupyter-widgets/controls",
          "model_name": "DescriptionStyleModel",
          "model_module_version": "1.5.0",
          "state": {
            "_view_name": "StyleView",
            "_model_name": "DescriptionStyleModel",
            "description_width": "",
            "_view_module": "@jupyter-widgets/base",
            "_model_module_version": "1.5.0",
            "_view_count": null,
            "_view_module_version": "1.2.0",
            "_model_module": "@jupyter-widgets/controls"
          }
        },
        "5eb772d2afd546cfa0511dd0c3e15722": {
          "model_module": "@jupyter-widgets/base",
          "model_name": "LayoutModel",
          "model_module_version": "1.2.0",
          "state": {
            "_view_name": "LayoutView",
            "grid_template_rows": null,
            "right": null,
            "justify_content": null,
            "_view_module": "@jupyter-widgets/base",
            "overflow": null,
            "_model_module_version": "1.2.0",
            "_view_count": null,
            "flex_flow": null,
            "width": null,
            "min_width": null,
            "border": null,
            "align_items": null,
            "bottom": null,
            "_model_module": "@jupyter-widgets/base",
            "top": null,
            "grid_column": null,
            "overflow_y": null,
            "overflow_x": null,
            "grid_auto_flow": null,
            "grid_area": null,
            "grid_template_columns": null,
            "flex": null,
            "_model_name": "LayoutModel",
            "justify_items": null,
            "grid_row": null,
            "max_height": null,
            "align_content": null,
            "visibility": null,
            "align_self": null,
            "height": null,
            "min_height": null,
            "padding": null,
            "grid_auto_rows": null,
            "grid_gap": null,
            "max_width": null,
            "order": null,
            "_view_module_version": "1.2.0",
            "grid_template_areas": null,
            "object_position": null,
            "object_fit": null,
            "grid_auto_columns": null,
            "margin": null,
            "display": null,
            "left": null
          }
        }
      }
    }
  },
  "nbformat": 4,
  "nbformat_minor": 5
}